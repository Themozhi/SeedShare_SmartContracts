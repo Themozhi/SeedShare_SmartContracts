{
 "cells": [
  {
   "cell_type": "markdown",
   "id": "8673cd90",
   "metadata": {},
   "source": [
    "# Recommendation Engine"
   ]
  },
  {
   "cell_type": "markdown",
   "id": "a6b0740d",
   "metadata": {},
   "source": [
    "The foundation of this model lies in understanding the distinct agroclimate zones across regions. By analyzing historical meteorological data such as rainfall and temperature patterns, states are grouped into these agroclimate zones. The dissimilarity matrix is then constructed, where each cell represents the dissimilarity score between two agroclimate zones. Higher values indicate greater dissimilarity, ensuring diverse recommendations.\n",
    "\n",
    "Here's how the model operates: when a farmer enters their location in their profile details in the SeedShare app, the system identifies their agroclimate zone. Using the dissimilarity matrix, it recommends farms from zones dissimilar to the farmer's, reducing the risk of shared climate-related issues. Further filtering considers factors like historical yield and bid prices to offer personalized recommendations.These recommendations empower farmers with insights to explore novel geographic regions that may offer unique agricultural advantages and prospects.  In essence, this model leverages meteorological data to cluster regions, allowing farmers to make informed decisions and mitigate crop-related risks effectively."
   ]
  },
  {
   "cell_type": "code",
   "execution_count": null,
   "id": "c3c41e2e",
   "metadata": {},
   "outputs": [],
   "source": [
    "import matplotlib.pyplot as plt\n",
    "\n",
    "# Load the image\n",
    "image = plt.imread(r\"E:\\agroclimatezones.png\")\n",
    "fig = plt.figure(figsize=(10, 10), dpi=300)\n",
    "\n",
    "# Display the image\n",
    "plt.imshow(image)\n",
    "\n",
    "# Turn off the x and y axis\n",
    "plt.axis('off')\n",
    "\n",
    "# Show the figure\n",
    "plt.show()\n"
   ]
  },
  {
   "cell_type": "markdown",
   "id": "ca4c96f9",
   "metadata": {},
   "source": [
    "An “Agro-climatic zone” is a land unit in terms of major climates, suitable for a certain range of crops and cultivars. The planning aims at scientific management of regional resources to meet the food, fiber, fodder, and fuelwood without adversely affecting the status of natural resources and the environment. Agro-climatic conditions mainly refer to soil types, rainfall, temperature, and water availability, which influence the type of vegetation. "
   ]
  },
  {
   "cell_type": "markdown",
   "id": "c70ca72c",
   "metadata": {},
   "source": [
    "# Flow Diagram of Recommendation Engine"
   ]
  },
  {
   "cell_type": "code",
   "execution_count": null,
   "id": "2a6f3661",
   "metadata": {},
   "outputs": [],
   "source": [
    "import matplotlib.pyplot as plt\n",
    "\n",
    "# Load the image\n",
    "image = plt.imread(r\"E:\\Rengine flowdg.jpg\")\n",
    "\n",
    "# Create a figure with a specific size and resolution\n",
    "fig = plt.figure(figsize=(10, 10), dpi=300)\n",
    "\n",
    "# Display the image\n",
    "plt.imshow(image)\n",
    "\n",
    "# Turn off the x and y axis\n",
    "plt.axis('off')\n",
    "\n",
    "# Show the figure\n",
    "plt.show()\n"
   ]
  },
  {
   "cell_type": "markdown",
   "id": "c9a371ff",
   "metadata": {},
   "source": [
    "# __Installing Necessary Libraries__\n"
   ]
  },
  {
   "cell_type": "code",
   "execution_count": null,
   "id": "8c5656a7",
   "metadata": {},
   "outputs": [],
   "source": [
    "!pip install scikit-surprise\n",
    "!pip install pandas openpyxl\n"
   ]
  },
  {
   "cell_type": "code",
   "execution_count": null,
   "id": "3c8ad2ad",
   "metadata": {},
   "outputs": [],
   "source": [
    "import pandas as pd\n",
    "\n",
    "# Provide the path to your Excel file\n",
    "excel_file_path = r\"E:\\recommendation.xlsx\"  # Replace with the actual file path\n",
    "\n",
    "# Read the Excel file into a Pandas DataFrame\n",
    "data = pd.read_excel(excel_file_path, sheet_name='recommendation')  # Replace 'Sheet1' with the actual sheet name.\n",
    "\n",
    "\n",
    "# Optionally, you can check the first few rows of your DataFrame to verify the data\n",
    "print(data.head())\n"
   ]
  },
  {
   "cell_type": "markdown",
   "id": "c450a81a",
   "metadata": {},
   "source": [
    " Using the historical average rainfall, minimum temperature, and maximum temperature data for each agroclimate zone from 1966 to 2011, a dissimilarity matrix (14x14) is computed. This matrix quantifies how dissimilar one agroclimate zone is from another. A higher value in the matrix indicates greater dissimilarity.\n"
   ]
  },
  {
   "cell_type": "code",
   "execution_count": null,
   "id": "8eb870e3",
   "metadata": {},
   "outputs": [],
   "source": [
    "import matplotlib.pyplot as plt\n",
    "\n",
    "# Load the image\n",
    "image = plt.imread(r\"E:\\rainfall.png\")\n",
    "fig = plt.figure(figsize=(5, 5), dpi=300)\n",
    "# Display the image\n",
    "plt.imshow(image)\n",
    "plt.axis('off')\n",
    "\n",
    "\n",
    "# Show the figure\n",
    "plt.show()"
   ]
  },
  {
   "cell_type": "markdown",
   "id": "7af3e0cd",
   "metadata": {},
   "source": [
    "The dataset's rainfall and temperature data are crucial for defining agroclimatic zones and for calculating dissimilarity between these zones. This dissimilarity matrix is then used to recommend farms in different zones to mitigate the risk of crop failure due to localized weather events."
   ]
  },
  {
   "cell_type": "markdown",
   "id": "ae9be599",
   "metadata": {},
   "source": [
    "# Evaluating Euclidean Distance"
   ]
  },
  {
   "cell_type": "code",
   "execution_count": null,
   "id": "db160702",
   "metadata": {},
   "outputs": [],
   "source": [
    "import pandas as pd\n",
    "from sklearn.preprocessing import normalize\n",
    "from sklearn.metrics import pairwise_distances\n",
    "\n",
    "# Replace 'Sheet1' with the name of the sheet you want to load\n",
    "sheet_name = 'Sheet5'\n",
    "\n",
    "# Load a specific sheet from your Excel file\n",
    "your_dataset = pd.read_excel(r'E:\\recommendation.xlsx', sheet_name=sheet_name)\n",
    "\n",
    "# Normalize the entire dataset\n",
    "normalized_data = normalize(your_dataset)\n",
    "\n",
    "# Create a DataFrame with the normalized data\n",
    "scaled_df = pd.DataFrame(normalized_data, columns=your_dataset.columns)\n",
    "\n",
    "# Calculate the Euclidean distance matrix\n",
    "euclidean_dissimilarity_matrix = pairwise_distances(scaled_df.values, metric='euclidean')\n",
    "\n",
    "# Convert the dissimilarity matrix to a DataFrame for easier visualization\n",
    "euclidean_dissimilarity_df = pd.DataFrame(euclidean_dissimilarity_matrix, index=scaled_df.index, columns=scaled_df.index)\n",
    "\n",
    "# Print or use the dissimilarity matrix as needed\n",
    "print(euclidean_dissimilarity_df)\n"
   ]
  },
  {
   "cell_type": "markdown",
   "id": "4e2d2302",
   "metadata": {},
   "source": [
    "Normalizing meteorological data, such as rainfall and temperature, is crucial because it ensures that all variables are on a consistent scale. Since these data often have different units and magnitudes, normalization makes them comparable and prevents certain variables from dominating the analysis. "
   ]
  },
  {
   "cell_type": "code",
   "execution_count": null,
   "id": "4ccd3790",
   "metadata": {},
   "outputs": [],
   "source": [
    "import pandas as pd\n",
    "from sklearn.preprocessing import normalize\n",
    "from sklearn.metrics import pairwise_distances\n",
    "\n",
    "# Replace 'Sheet1' with the name of the sheet you want to load\n",
    "sheet_name = 'Sheet5'\n",
    "\n",
    "# Load a specific sheet from your Excel file\n",
    "your_dataset = pd.read_excel(r'E:\\recommendation.xlsx', sheet_name=sheet_name)\n",
    "\n",
    "# Create an array with the names of your agroclimate zones\n",
    "agroclimate_zone_names = ['Western Himalayan Region', 'Eastern Himalayan Region', 'Lower Gangetic Plains Region', 'Middle Gangetic Plains Region', 'Upper Gangetic Plains Region', 'Trans-Gangetic Plains Region', 'Eastern Plateau and Hills Region', 'Central Plateau and Hills Region', 'Western Plateau and Hills Region', 'Southern Plateau and Hills Region', 'East Coast Plains and Hills Region', 'West Coast Plains and Ghat Region', 'Gujarat Plains and Hills Region', 'Western Dry Region'\n",
    "]\n",
    "\n",
    "# Normalize the entire dataset\n",
    "normalized_data = normalize(your_dataset)\n",
    "\n",
    "# Create a DataFrame with the normalized data\n",
    "scaled_df = pd.DataFrame(normalized_data, columns=your_dataset.columns)\n",
    "\n",
    "# Calculate the Euclidean distance matrix\n",
    "euclidean_dissimilarity_matrix = pairwise_distances(scaled_df.values, metric='euclidean')\n",
    "\n",
    "# Append the line to create the dissimilarity DataFrame with labeled rows and columns\n",
    "euclidean_dissimilarity_df = pd.DataFrame(euclidean_dissimilarity_matrix, index=agroclimate_zone_names, columns=agroclimate_zone_names)\n",
    "\n",
    "# Print or use the dissimilarity matrix as needed\n",
    "print(euclidean_dissimilarity_df)\n"
   ]
  },
  {
   "cell_type": "code",
   "execution_count": null,
   "id": "ec943b6e",
   "metadata": {},
   "outputs": [],
   "source": [
    "import pandas as pd\n",
    "from sklearn.preprocessing import normalize\n",
    "from sklearn.metrics import pairwise_distances\n",
    "\n",
    "# Assuming you have your dissimilarity matrix as euclidean_dissimilarity_matrix\n",
    "# Make sure it's 13x13 if you have 14 agroclimate zones\n",
    "\n",
    "# Replace 'Sheet1' with the name of the sheet you want to load\n",
    "sheet_name = 'Sheet5'\n",
    "\n",
    "# Load a specific sheet from your Excel file\n",
    "your_dataset = pd.read_excel(r'E:\\recommendation.xlsx', sheet_name=sheet_name)\n",
    "\n",
    "# Create a list of agroclimate zone names\n",
    "agroclimate_zone_names = [\n",
    "    'Western Himalayan Region',\n",
    "    'Eastern Himalayan Region',\n",
    "    'Lower Gangetic Plains Region',\n",
    "    'Middle Gangetic Plains Region',\n",
    "    'Upper Gangetic Plains Region',\n",
    "    'Trans-Gangetic Plains Region',\n",
    "    'Eastern Plateau and Hills Region',\n",
    "    'Central Plateau and Hills Region',\n",
    "    'Western Plateau and Hills Region',\n",
    "    'Southern Plateau and Hills Region',\n",
    "    'East Coast Plains and Hills Region',\n",
    "    'West Coast Plains and Ghat Region',\n",
    "    'Gujarat Plains and Hills Region',\n",
    "    'Western Dry Region'\n",
    "]\n",
    "\n",
    "# Normalize the entire dataset\n",
    "normalized_data = normalize(your_dataset)\n",
    "\n",
    "# Create a DataFrame with the normalized data\n",
    "scaled_df = pd.DataFrame(normalized_data, columns=your_dataset.columns)\n",
    "\n",
    "# Calculate the Euclidean distance matrix\n",
    "euclidean_dissimilarity_matrix = pairwise_distances(scaled_df.values, metric='euclidean')\n",
    "\n",
    "# Convert the dissimilarity matrix to a DataFrame with labeled rows and columns\n",
    "euclidean_dissimilarity_df = pd.DataFrame(euclidean_dissimilarity_matrix, index=agroclimate_zone_names, columns=agroclimate_zone_names)\n",
    "\n",
    "# Print or use the dissimilarity matrix as needed\n",
    "print(euclidean_dissimilarity_df)\n"
   ]
  },
  {
   "cell_type": "markdown",
   "id": "0031b8e2",
   "metadata": {},
   "source": [
    "- The dataset contains historical records of annual and seasonal rainfall, as well as temperature data for different regions. These records span several years, allowing us to establish long-term climate patterns.\n",
    "- By calculating dissimilarity metrics like Euclidean distance between these climate variables for all pairs of zones, we can quantify how different or similar the agroclimatic conditions are between these zones.\n",
    "- Agroclimatic zones that are closer in the dissimilarity matrix have more similar climate conditions, while those further apart are more dissimilar.\n",
    "- This dissimilarity matrix serves as the foundation for the recommendation engine because it helps identify zones that are climatically dissimilar to the user's current zone. Recommending farms in dissimilar zones reduces the risk associated with adverse local weather conditions.\n"
   ]
  },
  {
   "cell_type": "code",
   "execution_count": null,
   "id": "8eabf541",
   "metadata": {},
   "outputs": [],
   "source": [
    "import pandas as pd\n",
    "from sklearn.preprocessing import StandardScaler\n",
    "\n",
    "# Load the dataset from the Excel file (assuming it's in sheet5)\n",
    "sheet_name = 'Sheet5'\n",
    "file_path = r'E:\\recommendation.xlsx'  # Replace with your file path\n",
    "data = pd.read_excel(file_path, sheet_name=sheet_name)\n",
    "\n",
    "# Create a StandardScaler instance\n",
    "scaler = StandardScaler()\n",
    "\n",
    "# Standardize all columns\n",
    "data = scaler.fit_transform(data)\n",
    "\n",
    "# Now, 'data' contains your standardized dataset with all columns standardized\n",
    "# You can save it to a new Excel file or use it for further analysis\n"
   ]
  },
  {
   "cell_type": "code",
   "execution_count": null,
   "id": "a2e16156",
   "metadata": {},
   "outputs": [],
   "source": [
    "import pandas as pd\n",
    "from sklearn.preprocessing import StandardScaler\n",
    "\n",
    "# Load your dataset from Excel, assuming your data starts from the 1st column\n",
    "sheet_name = 'Sheet5'  # Replace with the name of your sheet\n",
    "data = pd.read_excel(r'E:\\recommendation.xlsx', sheet_name=sheet_name)\n",
    "\n",
    "# Select columns for standardization (assuming columns 1 to 9)\n",
    "\n",
    "# Initialize the StandardScaler\n",
    "scaler = StandardScaler()\n",
    "\n",
    "# Fit and transform the selected columns\n",
    "standardized_data = scaler.fit_transform(data)\n",
    "\n",
    "# Create a DataFrame with the standardized data\n",
    "\n",
    "# Print the standardized data\n",
    "print(standardized_data)\n"
   ]
  },
  {
   "cell_type": "markdown",
   "id": "49b890b5",
   "metadata": {},
   "source": [
    "# Dissimilarity Matrix"
   ]
  },
  {
   "cell_type": "code",
   "execution_count": null,
   "id": "40e83464",
   "metadata": {},
   "outputs": [],
   "source": [
    "import pandas as pd\n",
    "from sklearn.metrics import pairwise_distances\n",
    "\n",
    "# Load agroclimate zone names\n",
    "agroclimate_zone_names = ['Western Himalayan Region', 'Eastern Himalayan Region', 'Lower Gangetic Plains Region', 'Middle Gangetic Plains Region', 'Upper Gangetic Plains Region', 'Trans-Gangetic Plains Region', 'Eastern Plateau and Hills Region', 'Central Plateau and Hills Region', 'Western Plateau and Hills Region', 'Southern Plateau and Hills Region', 'East Coast Plains and Hills Region', 'West Coast Plains and Ghat Region', 'Gujarat Plains and Hills Region', 'Western Dry Region']\n",
    "\n",
    "# Assuming you already have standardized data in 'standardized_df', replace this with your DataFrame\n",
    "# Calculate pairwise Euclidean distances between rows (samples)\n",
    "standardized_df = pd.DataFrame(standardized_data, columns=data.columns)\n",
    "euclidean_dissimilarity_matrix = pairwise_distances(standardized_df.values, metric='euclidean')\n",
    "\n",
    "# Create a DataFrame with the dissimilarity matrix\n",
    "euclidean_dissimilarity_df = pd.DataFrame(euclidean_dissimilarity_matrix, index=agroclimate_zone_names, columns=agroclimate_zone_names)\n",
    "\n",
    "# Print or use the dissimilarity matrix as needed\n",
    "print(euclidean_dissimilarity_df)\n"
   ]
  },
  {
   "cell_type": "code",
   "execution_count": null,
   "id": "d9f65f73",
   "metadata": {},
   "outputs": [],
   "source": [
    "import matplotlib.pyplot as plt\n",
    "\n",
    "# Load the image\n",
    "image = plt.imread(r\"C:\\Users\\hp\\Pictures\\Screenshots\\dataset.png\")\n",
    "fig = plt.figure(figsize=(10, 10), dpi=300)\n",
    "# Display the image\n",
    "plt.imshow(image)\n",
    "plt.axis('off')\n",
    "\n",
    "\n",
    "# Show the figure\n",
    "plt.show()"
   ]
  },
  {
   "cell_type": "markdown",
   "id": "b7bf2584",
   "metadata": {},
   "source": [
    "The objective is to create a structured 14x14 dissimilarity matrix representing the differences between 14 agroclimate zones. Each cell in the matrix signifies the dissimilarity score between two zones, with higher values indicating greater dissimilarity"
   ]
  },
  {
   "cell_type": "markdown",
   "id": "87aa5f8e",
   "metadata": {},
   "source": [
    "# Agro-Climatic Zone Classification"
   ]
  },
  {
   "cell_type": "markdown",
   "id": "fe1a45d7",
   "metadata": {},
   "source": [
    " We've created a dictionary that maps states to agro-climatic zones. When a user inputs their state, this module provides the corresponding agro-climatic zone."
   ]
  },
  {
   "cell_type": "code",
   "execution_count": null,
   "id": "be47ecfa",
   "metadata": {},
   "outputs": [],
   "source": [
    "# Create a dictionary to map states to agro-climatic zones\n",
    "state_to_zone = {\n",
    "    'Jammu and Kashmir': 'Western Himalayan Region',\n",
    "    'Uttar Pradesh': 'Western Himalayan Region',\n",
    "    'Assam': 'Eastern Himalayan Region',\n",
    "    'Sikkim': 'Eastern Himalayan Region',\n",
    "    'West Bengal': 'Eastern Himalayan Region',\n",
    "    'Arunachal Pradesh': 'Eastern Himalayan Region',\n",
    "    'Nagaland': 'Eastern Himalayan Region',\n",
    "    'Manipur': 'Eastern Himalayan Region',\n",
    "    'Mizoram': 'Eastern Himalayan Region',\n",
    "    'Tripura': 'Eastern Himalayan Region',\n",
    "    'Meghalaya': 'Eastern Himalayan Region',\n",
    "    'Bihar': 'Middle Gangetic Plains Region',\n",
    "    'Punjab': 'Trans-Gangetic Plains Region',\n",
    "    'Haryana': 'Trans-Gangetic Plains Region',\n",
    "    'Delhi': 'Trans-Gangetic Plains Region',\n",
    "    'Rajasthan': 'Trans-Gangetic Plains Region',\n",
    "    'Maharashtra': 'Western Plateau and Hills Region',\n",
    "    'Madhya Pradesh': 'Western Plateau and Hills Region',\n",
    "    'Andhra Pradesh': 'Southern Plateau and Hills Region',\n",
    "    'Karnataka': 'Southern Plateau and Hills Region',\n",
    "    'Tamil Nadu': 'Southern Plateau and Hills Region',\n",
    "    'Odisha': 'East Coast Plains and Hills Region',\n",
    "    'Goa': 'West Coast Plains and Ghat Region',\n",
    "    'Kerala': 'West Coast Plains and Ghat Region',\n",
    "    'Gujarat': 'Gujarat Plains and Hills Region',\n",
    "    'Rajasthan': 'Western Dry Region',\n",
    "    'Andaman and Nicobar': 'The Islands Region',\n",
    "    'Lakshadweep': 'The Islands Region'\n",
    "}\n",
    "\n",
    "# Input the state name\n",
    "state_name = input(\"Enter the name of the state: \")\n",
    "\n",
    "# Check if the entered state is in the mapping dictionary\n",
    "if state_name in state_to_zone:\n",
    "    agro_climatic_zone = state_to_zone[state_name]\n",
    "    print(f\"{agro_climatic_zone}\")\n",
    "else:\n",
    "    print(f\"Agro-climatic zone information not found for {state_name}\")\n"
   ]
  },
  {
   "cell_type": "markdown",
   "id": "70811c88",
   "metadata": {},
   "source": [
    "The user enters their current state of residence or farming location into their SeedShare profile. Upon user profile update, the SeedShare backend system automatically determines the specific agroclimate zone corresponding to the provided state using above logic."
   ]
  },
  {
   "cell_type": "code",
   "execution_count": null,
   "id": "c9b16050",
   "metadata": {},
   "outputs": [],
   "source": [
    "# Define the target agroclimate zone for which you want recommendations\n",
    "target_zone = input(\"Enter your agroclimate zone: \")  # Get the desired zone from the user\n",
    "\n",
    "# Get the number of recommendations (top N) from the user\n",
    "top_n = int(input(\"Enter the number of recommendations (top N): \"))  # Get N from the user\n",
    "\n",
    "# Get the dissimilarity values for the target zone\n",
    "dissimilarity_values = euclidean_dissimilarity_df[target_zone]\n",
    "\n",
    "# Sort the dissimilarity values in descending order and get the top N recommendations\n",
    "top_recommendations = dissimilarity_values.sort_values(ascending=False).head(top_n)\n",
    "\n",
    "# Print the top N recommendations\n",
    "print(f\"Top {top_n} Recommendations for '{target_zone}':\")\n",
    "for zone, dissimilarity in top_recommendations.items():\n",
    "    print(f\"{zone}: Dissimilarity = {dissimilarity}\")\n"
   ]
  },
  {
   "cell_type": "code",
   "execution_count": null,
   "id": "83861de3",
   "metadata": {},
   "outputs": [],
   "source": [
    "# Define the target agroclimate zone for which you want recommendations\n",
    "target_zone = input(\"Enter your agroclimate zone: \")  # Get the desired zone from the user\n",
    "\n",
    "# Get the number of recommendations (top N) from the user\n",
    "top_n = int(input(\"Enter the number of recommendations (top N): \"))  # Get N from the user\n",
    "\n",
    "# Get the dissimilarity values for the target zone\n",
    "dissimilarity_values = euclidean_dissimilarity_df[target_zone]\n",
    "\n",
    "# Sort the dissimilarity values in descending order and get the top N recommendations\n",
    "top_recommendations = dissimilarity_values.sort_values(ascending=False).head(top_n)\n",
    "\n",
    "# Load the original dataset (assuming it's in the 'recommendation' sheet)\n",
    "original_dataset = pd.read_excel(r'E:\\recommendation.xlsx', sheet_name='recommendation')\n",
    "\n",
    "# Display the records of the top N recommended zones\n",
    "print(f\"Top Recommendations for '{target_zone}':\")\n",
    "for zone, dissimilarity in top_recommendations.items():\n",
    "    recommended_zone_records = original_dataset[original_dataset['AgroClimateZone'] == zone]\n",
    "    print(recommended_zone_records)\n",
    "    print(\"\\n\")\n"
   ]
  },
  {
   "cell_type": "markdown",
   "id": "93b7ffdb",
   "metadata": {},
   "source": [
    "In SeedShare, recommendations are ranked using a variety of criteria, including historical crop yields, pricing factors (ask and bid prices), location-specific conditions (soil quality, water availability), user preferences (organic farming, crop choices), feedback and ratings from other users, availability of farms/resources, and machine learning algorithms tailored to individual farmer profiles.\n"
   ]
  },
  {
   "cell_type": "code",
   "execution_count": null,
   "id": "737710d1",
   "metadata": {},
   "outputs": [],
   "source": [
    "# Define the target agroclimate zone for which you want recommendations\n",
    "target_zone = input(\"Enter your agroclimate zone: \")  # Get the desired zone from the user\n",
    "\n",
    "# Get the number of recommendations (top N) from the user\n",
    "top_n = int(input(\"Enter the top N dissimilar zones you want: \"))  # Get N from the user\n",
    "\n",
    "# Get the dissimilarity values for the target zone\n",
    "dissimilarity_values = euclidean_dissimilarity_df[target_zone]\n",
    "\n",
    "# Sort the dissimilarity values in descending order and get the top N recommendations\n",
    "top_recommendations = dissimilarity_values.sort_values(ascending=False).head(top_n)\n",
    "\n",
    "# Load the original dataset (assuming it's in the 'recommendation' sheet)\n",
    "original_dataset = pd.read_excel(r'E:\\recommendation.xlsx', sheet_name='recommendation')\n",
    "\n",
    "# Initialize an empty DataFrame to store records of the top N recommended zones\n",
    "recommended_records = pd.DataFrame()\n",
    "\n",
    "# Iterate through the top N recommended zones\n",
    "for zone in top_recommendations.index:\n",
    "    # Filter records for the current zone\n",
    "    zone_records = original_dataset[original_dataset['AgroClimateZone'] == zone]\n",
    "    \n",
    "    # Append the zone_records to the recommended_records DataFrame\n",
    "    recommended_records = pd.concat([recommended_records, zone_records], ignore_index=True)\n",
    "\n",
    "# Sort the recommended records by 'AverageYield' in descending order\n",
    "recommended_records = recommended_records.sort_values(by='AverageYield', ascending=False)\n",
    "\n",
    "# Ask the user how many records they want to see\n",
    "num_records_to_display = int(input(\"Enter the number of records to display: \"))\n",
    "\n",
    "# Display the desired number of records based on yield ranking\n",
    "if num_records_to_display <= len(recommended_records):\n",
    "    top_records = recommended_records.reset_index(drop=True).head(num_records_to_display)\n",
    "    print(f\"Top {num_records_to_display} Records for '{target_zone}' based on Yield:\")\n",
    "    print(top_records)\n",
    "else:\n",
    "    print(\"Invalid number of records to display.\")\n"
   ]
  },
  {
   "cell_type": "markdown",
   "id": "37007330",
   "metadata": {},
   "source": [
    "# Final output: Recommendation Feed"
   ]
  },
  {
   "cell_type": "code",
   "execution_count": null,
   "id": "e598ed28",
   "metadata": {},
   "outputs": [],
   "source": [
    "# ... (Previous code)\n",
    "\n",
    "# Sort the recommended records by 'AverageYield' in descending order\n",
    "# Define the target agroclimate zone for which you want recommendations\n",
    "target_zone = input(\"Enter your agroclimate zone: \")  # Get the desired zone from the user\n",
    "\n",
    "# Get the number of recommendations (top N) from the user\n",
    "top_n = int(input(\"Enter the top N dissimilar zones you want: \"))  # Get N from the user\n",
    "\n",
    "# Get the dissimilarity values for the target zone\n",
    "dissimilarity_values = euclidean_dissimilarity_df[target_zone]\n",
    "\n",
    "# Sort the dissimilarity values in descending order and get the top N recommendations\n",
    "top_recommendations = dissimilarity_values.sort_values(ascending=False).head(top_n)\n",
    "\n",
    "# Load the original dataset (assuming it's in the 'recommendation' sheet)\n",
    "original_dataset = pd.read_excel(r'E:\\recommendation.xlsx', sheet_name='recommendation')\n",
    "\n",
    "# Initialize an empty DataFrame to store records of the top N recommended zones\n",
    "recommended_records = pd.DataFrame()\n",
    "\n",
    "# Iterate through the top N recommended zones\n",
    "for zone, _ in top_recommendations.items():\n",
    "    # Filter records for the current zone\n",
    "    zone_records = original_dataset[original_dataset['AgroClimateZone'] == zone]\n",
    "    \n",
    "    # Append the zone_records to the recommended_records DataFrame\n",
    "    recommended_records = pd.concat([recommended_records, zone_records], ignore_index=True)\n",
    "\n",
    "recommended_records = recommended_records.sort_values(by='AverageYield', ascending=False)\n",
    "\n",
    "# Ask the user to enter a bid price\n",
    "bidprice = float(input(\"Enter your bid price: \"))\n",
    "\n",
    "# Filter records where askprice is less than or equal to bidprice\n",
    "filtered_records = recommended_records[recommended_records['askprice'] <= bidprice]\n",
    "\n",
    "# Sort the filtered records by 'askprice' in ascending order\n",
    "sorted_records = filtered_records.sort_values(by='askprice', ascending=True)\n",
    "\n",
    "# Ask the user how many records they want to see\n",
    "num_records_to_display = int(input(\"Enter the number of records to display: \"))\n",
    "\n",
    "# Display the desired number of records\n",
    "if num_records_to_display <= len(sorted_records):\n",
    "    top_records = sorted_records.reset_index(drop=True).head(num_records_to_display)\n",
    "    print(f\"Top {num_records_to_display} Records for '{target_zone}' based on Yield and Ask Price (<= {bidprice}):\")\n",
    "    print(top_records)\n",
    "else:\n",
    "    print(\"Invalid number of records to display.\")\n"
   ]
  },
  {
   "cell_type": "markdown",
   "id": "5efc67d0",
   "metadata": {},
   "source": [
    " Interpretation of the Heatmap:\n",
    "   - The heatmap helps in quickly identifying which agroclimate zones are dissimilar to each other.\n",
    "   - Zones that have higher dissimilarity values (warmer colors) are considered more different in terms of farming conditions.\n"
   ]
  },
  {
   "cell_type": "code",
   "execution_count": null,
   "id": "4228f23e",
   "metadata": {
    "scrolled": false
   },
   "outputs": [],
   "source": [
    "import numpy as np\n",
    "import matplotlib.pyplot as plt\n",
    "\n",
    "# Your dissimilarity matrix\n",
    "dissimilarity_matrix = [\n",
    "    [0.000000, 4.899886, 6.995954, 6.410329, 6.464020, 6.348189, 5.995814, 5.982116, 6.941320, 7.539730, 7.623363, 7.163017, 6.809403, 7.059275],\n",
    "    [4.899886, 0.000000, 4.126332, 4.809205, 5.522054, 6.091541, 3.753073, 4.812604, 5.332584, 6.169238, 5.245247, 3.319520, 5.242065, 6.674284],\n",
    "    [6.995954, 4.126332, 0.000000, 2.003805, 2.942979, 3.862565, 1.521787, 2.355930, 2.646746, 3.484249, 2.568880, 4.258436, 2.397933, 3.813717],\n",
    "    [6.410329, 4.809205, 2.003805, 0.000000, 1.027308, 2.084376, 1.954008, 1.226281, 2.691307, 4.098637, 3.970358, 5.697032, 2.159548, 2.134476],\n",
    "    [6.464020, 5.522054, 2.942979, 1.027308, 0.000000, 1.121012, 2.878831, 1.767628, 3.351841, 4.597447, 4.618695, 6.614956, 2.826156, 1.487923],\n",
    "    [6.348189, 6.091541, 3.862565, 2.084376, 1.121012, 0.000000, 3.790949, 2.642658, 4.225918, 5.160587, 5.207088, 7.413737, 3.746555, 1.662068],\n",
    "    [5.995814, 3.753073, 1.521787, 1.954008, 2.878831, 3.790949, 0.000000, 1.516726, 1.783612, 3.235368, 3.139302, 4.008638, 1.630482, 3.570693],\n",
    "    [5.982116, 4.812604, 2.355930, 1.226281, 1.767628, 2.642658, 1.516726, 0.000000, 1.811445, 3.468887, 3.914007, 5.452451, 1.310691, 2.167107],\n",
    "    [6.941320, 5.332584, 2.646746, 2.691307, 3.351841, 4.225918, 1.783612, 1.811445, 0.000000, 2.463975, 3.450073, 4.862271, 0.966578, 3.289849],\n",
    "    [7.539730, 6.169238, 3.484249, 4.098637, 4.597447, 5.160587, 3.235368, 3.468887, 2.463975, 0.000000, 2.421785, 5.306395, 2.863766, 4.345274],\n",
    "    [7.623363, 5.245247, 2.568880, 3.970358, 4.618695, 5.207088, 3.139302, 3.914007, 3.450073, 2.421785, 0.000000, 4.350234, 3.663523, 4.991659],\n",
    "    [7.163017, 3.319520, 4.258436, 5.697032, 6.614956, 7.413737, 4.008638, 5.452451, 4.862271, 5.306395, 4.350234, 0.000000, 5.254454, 7.414738],\n",
    "    [6.809403, 5.242065, 2.397933, 2.159548, 2.826156, 3.746555, 1.630482, 1.310691, 0.966578, 2.863766, 3.663523, 5.254454, 0.000000, 2.854312],\n",
    "    [7.059275, 6.674284, 3.813717, 2.134476, 1.487923, 1.662068, 3.570693, 2.167107, 3.289849, 4.345274, 4.991659, 7.414738, 2.854312, 0.000000]\n",
    "]\n",
    "\n",
    "# Create a heatmap\n",
    "plt.figure(figsize=(10, 8))\n",
    "plt.imshow(dissimilarity_matrix, cmap='coolwarm', interpolation='nearest')\n",
    "plt.colorbar(label='Dissimilarity')\n",
    "plt.title('Dissimilarity Matrix Heatmap')\n",
    "plt.xticks(range(len(dissimilarity_matrix)), range(1, len(dissimilarity_matrix) + 1))\n",
    "plt.yticks(range(len(dissimilarity_matrix)), range(1, len(dissimilarity_matrix) + 1))\n",
    "plt.show()\n"
   ]
  },
  {
   "cell_type": "markdown",
   "id": "7dfecc48",
   "metadata": {},
   "source": [
    "Why is SeedShare's Recommendation Model Novel?\n",
    "\n",
    "1. Agroclimate Zone Approach: SeedShare's model introduces the concept of agroclimate zones to tailor recommendations. This approach takes into account regional climate, rainfall, and temperature data to provide highly relevant recommendations.\n",
    "\n",
    "2. Dissimilarity Matrix: The model's use of dissimilarity matrices is a novel and effective way to identify suitable farming alternatives. It ensures that recommended farms are in regions with characteristics opposite to the farmer's current location, enhancing risk mitigation.\n",
    "\n",
    "3. Customization: SeedShare's model goes beyond generic recommendations. It offers farmers specific guidance on crops and strategies that align with their individual needs and preferences.\n"
   ]
  }
 ],
 "metadata": {
  "kernelspec": {
   "display_name": "Python 3 (ipykernel)",
   "language": "python",
   "name": "python3"
  },
  "language_info": {
   "codemirror_mode": {
    "name": "ipython",
    "version": 3
   },
   "file_extension": ".py",
   "mimetype": "text/x-python",
   "name": "python",
   "nbconvert_exporter": "python",
   "pygments_lexer": "ipython3",
   "version": "3.9.13"
  }
 },
 "nbformat": 4,
 "nbformat_minor": 5
}
